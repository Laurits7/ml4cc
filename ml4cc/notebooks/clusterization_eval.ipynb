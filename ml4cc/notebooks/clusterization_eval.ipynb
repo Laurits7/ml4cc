{
 "cells": [
  {
   "cell_type": "code",
   "execution_count": null,
   "id": "852fff3d-c892-47d4-879f-6be783d02aa8",
   "metadata": {},
   "outputs": [],
   "source": [
    "import hydra\n",
    "with initialize(version_base=None, config_path=\"../config\", job_name=\"test_app\"):\n",
    "    cfg = compose(config_name=\"training\")"
   ]
  },
  {
   "cell_type": "code",
   "execution_count": null,
   "id": "65addf8b-859b-416f-8095-ebc4ebfafb4b",
   "metadata": {},
   "outputs": [],
   "source": []
  },
  {
   "cell_type": "code",
   "execution_count": null,
   "id": "f58ece5a-87d4-4e3a-b888-cce844b089cf",
   "metadata": {},
   "outputs": [],
   "source": [
    "# CEPC: Evaluate clusterization for different particle types"
   ]
  },
  {
   "cell_type": "code",
   "execution_count": null,
   "id": "ff5462b9-92dd-4b4a-b3f3-82ad34ab85f2",
   "metadata": {},
   "outputs": [],
   "source": [
    "CEPC_model_path = \"foobar\""
   ]
  },
  {
   "cell_type": "code",
   "execution_count": null,
   "id": "29270167-4eb3-46e5-b7b9-c603e2b85dfd",
   "metadata": {},
   "outputs": [],
   "source": []
  },
  {
   "cell_type": "code",
   "execution_count": null,
   "id": "54ef3c06-40cd-435e-b068-16755c8968dc",
   "metadata": {},
   "outputs": [],
   "source": [
    "# FCC: Evaluate clusterization for different energies/pT\n"
   ]
  },
  {
   "cell_type": "code",
   "execution_count": null,
   "id": "b7541a14-2b95-4b7b-b0c3-e2db92e5ba77",
   "metadata": {},
   "outputs": [],
   "source": [
    "FCC_model_path = \"foobar\"\n"
   ]
  }
 ],
 "metadata": {
  "kernelspec": {
   "display_name": "Python 3 (ipykernel)",
   "language": "python",
   "name": "python3"
  },
  "language_info": {
   "codemirror_mode": {
    "name": "ipython",
    "version": 3
   },
   "file_extension": ".py",
   "mimetype": "text/x-python",
   "name": "python",
   "nbconvert_exporter": "python",
   "pygments_lexer": "ipython3",
   "version": "3.11.9"
  }
 },
 "nbformat": 4,
 "nbformat_minor": 5
}
