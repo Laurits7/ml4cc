{
 "cells": [
  {
   "cell_type": "code",
   "execution_count": 1,
   "id": "a4276c20-c0ef-4ba2-8533-c2f94f726e54",
   "metadata": {},
   "outputs": [],
   "source": [
    "import os\n",
    "import json\n",
    "from hydra import compose, initialize\n",
    "from omegaconf import OmegaConf, DictConfig\n",
    "import numpy as np\n",
    "import pandas as pd\n",
    "import matplotlib.pyplot as plt\n",
    "from ml4cc.tools.evaluation import general as g\n",
    "from ml4cc.tools.visualization import losses as l\n",
    "from ml4cc.tools.visualization import regression as rv\n",
    "from ml4cc.tools.visualization import classification as cv\n",
    "\n",
    "with initialize(version_base=None, config_path=\"../config\", job_name=\"test_app\"):\n",
    "    cfg = compose(config_name=\"main\")"
   ]
  },
  {
   "cell_type": "code",
   "execution_count": 2,
   "id": "92770d27-1beb-4ac6-8f19-c36d6a242148",
   "metadata": {},
   "outputs": [],
   "source": [
    "CLASSIFICATION_TRAININGS = {\n",
    "    \"two_step_minimal\": \"/home/laurits/ml4cc/training-outputs/20250622_FCC_twostep_minimal/two_step_minimal/\",\n",
    "    \"two_step_pf_masked\": \"/home/laurits/ml4cc/training-outputs/20250620_FCC_twostep_masked/two_step_pf/\",\n",
    "    \"two_step_pf\": \"/home/laurits/ml4cc/training-outputs/20250618_FCC_twostep/two_step_pf/\"\n",
    "}\n",
    "\n",
    "REGRESSION_TRAININGS = {\n",
    "    \"one_step\": \"/home/laurits/ml4cc/training-outputs/20250622_FCC_onestep/one_step/\",\n",
    "    \"two_step_minimal\": \"/home/laurits/ml4cc/training-outputs/20250622_FCC_twostep_minimal/two_step_minimal/\",\n",
    "    # Should add here also the clusterization trainings\n",
    "}\n",
    "RESULTS_DIR = \"/home/laurits/tmp/results\"\n",
    "os.makedirs(RESULTS_DIR, exist_ok=True)"
   ]
  },
  {
   "cell_type": "code",
   "execution_count": null,
   "id": "6543484f-b59e-421d-a03b-28f0ee7c53fe",
   "metadata": {},
   "outputs": [],
   "source": []
  },
  {
   "cell_type": "markdown",
   "id": "740a88ea-3619-471a-85b1-fb536473dffd",
   "metadata": {},
   "source": [
    "# Classification"
   ]
  },
  {
   "cell_type": "code",
   "execution_count": 3,
   "id": "7c6be58f-8b1f-4de7-818c-5997b687b089",
   "metadata": {
    "scrolled": true
   },
   "outputs": [],
   "source": [
    "# Loss evaluation\n",
    "\n",
    "loss_results = {}\n",
    "lp = l.LossesMultiPlot(loss_name=\"BCE\", plot_train_losses=True, x_max=-1)\n",
    "for algo, training_dir in CLASSIFICATION_TRAININGS.items():\n",
    "    metrics_path = os.path.join(training_dir, \"logs/metrics.csv\")\n",
    "    losses = g.filter_losses(metrics_path=metrics_path)\n",
    "    losses_output_path = os.path.join(RESULTS_DIR, \"BCE_losses.png\")\n",
    "    loss_results[algo] = losses\n",
    "lp.plot_algorithms(results=loss_results, output_path=losses_output_path)\n"
   ]
  },
  {
   "cell_type": "code",
   "execution_count": 4,
   "id": "d6e0fd68-840e-479a-b9a2-b6cec1de40dd",
   "metadata": {},
   "outputs": [
    {
     "name": "stdout",
     "output_type": "stream",
     "text": [
      "two_step_minimal\n",
      "dict_keys(['resolution', 'median', 'AUC'])\n",
      "two_step_pf_masked\n",
      "dict_keys(['FPRs', 'TPRs', 'energies', 'AUC_mean', 'AUC', 'ROC'])\n",
      "two_step_pf\n",
      "dict_keys(['FPRs', 'TPRs', 'energies', 'AUC_mean', 'AUC', 'ROC'])\n"
     ]
    }
   ],
   "source": [
    "# Comparing ROC, AUC, etc.\n",
    "\n",
    "all_results = {}\n",
    "loss_results = {}\n",
    "for algo, training_dir in CLASSIFICATION_TRAININGS.items():\n",
    "    results_path = os.path.join(training_dir, \"results/results.json\")\n",
    "    metrics_path = os.path.join(training_dir, \"logs/metrics.csv\")\n",
    "    all_results[algo] = {}\n",
    "    best_loss = np.min(g.filter_losses(metrics_path)[\"val_loss\"])\n",
    "    loss_results[algo] = {\"best_losses\": [best_loss]}\n",
    "    with open(results_path, 'rt') as in_file:\n",
    "        results = json.load(in_file)\n",
    "        for pid in results.keys():\n",
    "            all_results[algo][pid] = results[pid][\"global\"]\n",
    "\n",
    "\n",
    "\n",
    "lsp = l.LossesStackPlot(loss_name=\"BCE\")\n",
    "lsp_output_path = os.path.join(RESULTS_DIR, \"cls_loss_stack.png\")\n",
    "lsp.plot_algorithms(loss_results, lsp_output_path)\n",
    "\n",
    "asp = cv.AUCStackPlot()\n",
    "asp_output_path = os.path.join(RESULTS_DIR, \"AUC_stack.png\")\n",
    "asp.plot_algorithms(all_results, asp_output_path)"
   ]
  },
  {
   "cell_type": "markdown",
   "id": "b2d75cac-5cab-4a41-8ab5-33e26f369fce",
   "metadata": {},
   "source": [
    "# Regression"
   ]
  },
  {
   "cell_type": "code",
   "execution_count": 5,
   "id": "0c009973-3b97-46a6-a4a9-e617c6b66dd0",
   "metadata": {},
   "outputs": [],
   "source": [
    "# Loss evaluation\n",
    "\n",
    "loss_results = {}\n",
    "lp = l.LossesMultiPlot(loss_name=\"MSE\", plot_train_losses=True)\n",
    "for algo, training_dir in REGRESSION_TRAININGS.items():\n",
    "    metrics_path = os.path.join(training_dir, \"logs/metrics.csv\")\n",
    "    losses = g.filter_losses(metrics_path=metrics_path)\n",
    "    losses_output_path = os.path.join(RESULTS_DIR, \"MSE_losses.png\")\n",
    "    loss_results[algo] = losses\n",
    "lp.plot_algorithms(results=loss_results, output_path=losses_output_path)"
   ]
  },
  {
   "cell_type": "code",
   "execution_count": 7,
   "id": "d774531b-7939-44f1-a3c7-3c36fa0e6174",
   "metadata": {},
   "outputs": [
    {
     "name": "stdout",
     "output_type": "stream",
     "text": [
      "dict_keys(['2', '4', '6', '8', '10', '165', '180', 'global'])\n",
      "dict_keys(['global'])\n"
     ]
    }
   ],
   "source": [
    "# Comparing the resolution\n",
    "all_results = {}\n",
    "loss_results = {}\n",
    "for algo, training_dir in REGRESSION_TRAININGS.items():\n",
    "    results_path = os.path.join(training_dir, \"results/results.json\")\n",
    "    metrics_path = os.path.join(training_dir, \"logs/metrics.csv\")\n",
    "    all_results[algo] = {}\n",
    "    if not algo == \"two_step_minimal\":\n",
    "        best_loss = np.min(g.filter_losses(metrics_path)[\"val_loss\"])\n",
    "        loss_results[algo] = {\"best_losses\": [best_loss]}\n",
    "    with open(results_path, 'rt') as in_file:\n",
    "        results = json.load(in_file)\n",
    "        for pid in results.keys():\n",
    "            all_results[algo][pid] = results[pid][\"global\"]\n",
    "\n",
    "rsp = rv.RegressionStackPlot()\n",
    "rsp_output_path = os.path.join(RESULTS_DIR, \"resolution_stack.png\")\n",
    "rsp.plot_algorithms(all_results, rsp_output_path)\n",
    "\n",
    "lsp = l.LossesStackPlot(loss_name=\"MSE\")\n",
    "lsp_output_path = os.path.join(RESULTS_DIR, \"regression_loss_stack.png\")\n",
    "lsp.plot_algorithms(loss_results, lsp_output_path)"
   ]
  },
  {
   "cell_type": "code",
   "execution_count": null,
   "id": "1645d32f-36bd-4d30-b4af-e6f5d73f5011",
   "metadata": {},
   "outputs": [],
   "source": []
  }
 ],
 "metadata": {
  "kernelspec": {
   "display_name": "Python 3 (ipykernel)",
   "language": "python",
   "name": "python3"
  },
  "language_info": {
   "codemirror_mode": {
    "name": "ipython",
    "version": 3
   },
   "file_extension": ".py",
   "mimetype": "text/x-python",
   "name": "python",
   "nbconvert_exporter": "python",
   "pygments_lexer": "ipython3",
   "version": "3.11.9"
  }
 },
 "nbformat": 4,
 "nbformat_minor": 5
}
